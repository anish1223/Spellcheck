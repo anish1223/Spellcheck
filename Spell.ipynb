{
 "cells": [
  {
   "cell_type": "code",
   "execution_count": 9,
   "id": "7c85d197",
   "metadata": {},
   "outputs": [],
   "source": [
    "import os\n",
    "from nltk import word_tokenize\n",
    "import itertools\n",
    "import pandas as pd"
   ]
  },
  {
   "cell_type": "code",
   "execution_count": 10,
   "id": "2b3bd8c1",
   "metadata": {},
   "outputs": [],
   "source": [
    "for dirname, _, filenames in os.walk('/Users/anishs/Desktop/dataset.csv'):\n",
    "    for filename in filenames:\n",
    "        print(os.path.join(dirname, filename))"
   ]
  },
  {
   "cell_type": "code",
   "execution_count": 25,
   "id": "2c94f1ab",
   "metadata": {},
   "outputs": [
    {
     "data": {
      "text/html": [
       "<div>\n",
       "<style scoped>\n",
       "    .dataframe tbody tr th:only-of-type {\n",
       "        vertical-align: middle;\n",
       "    }\n",
       "\n",
       "    .dataframe tbody tr th {\n",
       "        vertical-align: top;\n",
       "    }\n",
       "\n",
       "    .dataframe thead th {\n",
       "        text-align: right;\n",
       "    }\n",
       "</style>\n",
       "<table border=\"1\" class=\"dataframe\">\n",
       "  <thead>\n",
       "    <tr style=\"text-align: right;\">\n",
       "      <th></th>\n",
       "      <th>Sentence</th>\n",
       "    </tr>\n",
       "  </thead>\n",
       "  <tbody>\n",
       "    <tr>\n",
       "      <th>0</th>\n",
       "      <td>Illuminate the kitchen today.</td>\n",
       "    </tr>\n",
       "    <tr>\n",
       "      <th>1</th>\n",
       "      <td>Illuminate the kitchen tomorrow.</td>\n",
       "    </tr>\n",
       "    <tr>\n",
       "      <th>2</th>\n",
       "      <td>Turn on the light in the kitchen in 10 hours.</td>\n",
       "    </tr>\n",
       "    <tr>\n",
       "      <th>3</th>\n",
       "      <td>Turn on the light in the kitchen in 1 day.</td>\n",
       "    </tr>\n",
       "    <tr>\n",
       "      <th>4</th>\n",
       "      <td>Illuminate the dining room today.</td>\n",
       "    </tr>\n",
       "    <tr>\n",
       "      <th>...</th>\n",
       "      <td>...</td>\n",
       "    </tr>\n",
       "    <tr>\n",
       "      <th>658</th>\n",
       "      <td>Time.</td>\n",
       "    </tr>\n",
       "    <tr>\n",
       "      <th>659</th>\n",
       "      <td>I don't want you to tell me the time.</td>\n",
       "    </tr>\n",
       "    <tr>\n",
       "      <th>660</th>\n",
       "      <td>Tell me the time in an hour.</td>\n",
       "    </tr>\n",
       "    <tr>\n",
       "      <th>661</th>\n",
       "      <td>Tell me the time in a day.</td>\n",
       "    </tr>\n",
       "    <tr>\n",
       "      <th>662</th>\n",
       "      <td>What does te clock say?</td>\n",
       "    </tr>\n",
       "  </tbody>\n",
       "</table>\n",
       "<p>663 rows × 1 columns</p>\n",
       "</div>"
      ],
      "text/plain": [
       "                                          Sentence\n",
       "0                    Illuminate the kitchen today.\n",
       "1                 Illuminate the kitchen tomorrow.\n",
       "2    Turn on the light in the kitchen in 10 hours.\n",
       "3       Turn on the light in the kitchen in 1 day.\n",
       "4                Illuminate the dining room today.\n",
       "..                                             ...\n",
       "658                                          Time.\n",
       "659          I don't want you to tell me the time.\n",
       "660                   Tell me the time in an hour.\n",
       "661                     Tell me the time in a day.\n",
       "662                        What does te clock say?\n",
       "\n",
       "[663 rows x 1 columns]"
      ]
     },
     "execution_count": 25,
     "metadata": {},
     "output_type": "execute_result"
    }
   ],
   "source": [
    "df = pd.read_csv(\"/Users/anishs/Desktop/dataset.csv\")\n",
    "sentences_df = df[['Sentence']]\n",
    "sentences_df.head(1000)"
   ]
  },
  {
   "cell_type": "code",
   "execution_count": 12,
   "id": "dbb7c056",
   "metadata": {},
   "outputs": [],
   "source": [
    "def get_plain_vocabluary():\n",
    "    sentencess = [word_tokenize(sentence['Sentence']) for index, sentence in sentences_df.iterrows()]\n",
    "    mergesentences = list(itertools.chain.from_iterable(sentencess))\n",
    "    plainvocabulary = list(set(mergesentences))\n",
    "    return plainvocabulary"
   ]
  },
  {
   "cell_type": "code",
   "execution_count": 13,
   "id": "2f8c90fa",
   "metadata": {},
   "outputs": [],
   "source": [
    "def levenshtein_distance(s1, s2):\n",
    "    if len(s1) > len(s2):\n",
    "        s1, s2 = s2, s1\n",
    "\n",
    "    distances = range(len(s1) + 1)\n",
    "    for i2, c2 in enumerate(s2):\n",
    "        distances_ = [i2+1]\n",
    "        for i1, c1 in enumerate(s1):\n",
    "            if c1 == c2:\n",
    "                distances_.append(distances[i1])\n",
    "            else:\n",
    "                distances_.append(1 + min((distances[i1], distances[i1 + 1], distances_[-1])))\n",
    "        distances = distances_\n",
    "    return distances[-1]"
   ]
  },
  {
   "cell_type": "code",
   "execution_count": 14,
   "id": "66d07b88",
   "metadata": {},
   "outputs": [],
   "source": [
    "def spelling_correction(sentence):\n",
    "    splittedsentence = word_tokenize(sentence)\n",
    "    vocwords = list(itertools.chain.from_iterable([get_plain_vocabluary()]))\n",
    "    for i,word in enumerate(splittedsentence):\n",
    "        if (word not in vocwords and not word.isdigit()): # ignore digits\n",
    "            levdistances = []\n",
    "            for vocword in vocwords:\n",
    "                levdistances.append(levenshtein_distance(word,vocword))\n",
    "            splittedsentence[i] = vocwords[levdistances.index(min(levdistances))]\n",
    "        else:\n",
    "            splittedsentence[i] = word\n",
    "    return ' '.join(splittedsentence)"
   ]
  },
  {
   "cell_type": "code",
   "execution_count": 27,
   "id": "6e4aae8b",
   "metadata": {},
   "outputs": [
    {
     "name": "stdout",
     "output_type": "stream",
     "text": [
      "is there light in the kitchen\n"
     ]
    }
   ],
   "source": [
    "\n",
    "print(spelling_correction(\"is there ligh in the kiten\"))"
   ]
  },
  {
   "cell_type": "code",
   "execution_count": 30,
   "id": "f678eb61",
   "metadata": {},
   "outputs": [
    {
     "name": "stdout",
     "output_type": "stream",
     "text": [
      "I lovee Python programming .\n",
      "The quick browm fox jumps over the lazy dog .\n",
      "This sentence has some spelling mistake .\n"
     ]
    }
   ],
   "source": [
    "import nltk\n",
    "from nltk.tokenize import word_tokenize\n",
    "import SpellChecker\n",
    "def correct_spelling(sentence):\n",
    "    words = word_tokenize(sentence)\n",
    "    # You can add your own logic here to correct spelling using another library\n",
    "    corrected_words = words  # Placeholder, replace with your spell-checking code\n",
    "\n",
    "    corrected_sentence = ' '.join(corrected_words)\n",
    "    return corrected_sentence\n",
    "\n",
    "# Example sentences\n",
    "sentences = [\n",
    "    \"I lovee Python programming.\",\n",
    "    \"The quick browm fox jumps over the lazy dog.\",\n",
    "    \"This sentence has some spelling mistake.\"\n",
    "]\n",
    "\n",
    "# Correcting spelling in each sentence\n",
    "for sentence in sentences:\n",
    "    corrected_sentence = correct_spelling(sentence)\n",
    "    print(corrected_sentence)\n"
   ]
  },
  {
   "cell_type": "code",
   "execution_count": null,
   "id": "fc90547c",
   "metadata": {},
   "outputs": [],
   "source": []
  }
 ],
 "metadata": {
  "kernelspec": {
   "display_name": "Python 3 (ipykernel)",
   "language": "python",
   "name": "python3"
  },
  "language_info": {
   "codemirror_mode": {
    "name": "ipython",
    "version": 3
   },
   "file_extension": ".py",
   "mimetype": "text/x-python",
   "name": "python",
   "nbconvert_exporter": "python",
   "pygments_lexer": "ipython3",
   "version": "3.10.9"
  }
 },
 "nbformat": 4,
 "nbformat_minor": 5
}
